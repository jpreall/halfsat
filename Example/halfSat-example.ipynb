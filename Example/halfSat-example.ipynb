{
 "cells": [
  {
   "cell_type": "code",
   "execution_count": 1,
   "metadata": {},
   "outputs": [],
   "source": [
    "import matplotlib.pyplot as plt\n",
    "plt.rcParams['figure.figsize'] = [4,4]\n",
    "import sys\n",
    "import os\n",
    "scriptpath = 'your_path'\n",
    "sys.path.append(os.path.abspath(scriptpath))\n"
   ]
  },
  {
   "cell_type": "code",
   "execution_count": 2,
   "metadata": {},
   "outputs": [],
   "source": [
    "import halfsat"
   ]
  },
  {
   "cell_type": "code",
   "execution_count": 3,
   "metadata": {},
   "outputs": [],
   "source": [
    "from halfsat import webSum_10x_halfSat, metrics, predictUMIs"
   ]
  },
  {
   "cell_type": "code",
   "execution_count": 4,
   "metadata": {},
   "outputs": [],
   "source": [
    "web_summary_list = ['Brain_3p_web_summary.html',\n",
    "                    'Brain_3p_LT_web_summary.html',\n",
    "                    'Breast_Cancer_3p_LT_web_summary.html']\n",
    "web_summary_arc = 'human_brain_3k_web_summary.html'\n",
    "# generated from 10x's public 500_PBMC_3p_LT_Chromium_X dataset\n",
    "metrics_summary_json = 'metrics_summary_json.json'"
   ]
  },
  {
   "cell_type": "markdown",
   "metadata": {},
   "source": [
    "# 1) Median UMIs per Cell Modeling\n",
    "Via scraping 10x Genomic's CellRanger count metrics_summary_json.json file"
   ]
  },
  {
   "cell_type": "markdown",
   "metadata": {},
   "source": [
    "### Build a UMI_model object with various attributes scraped from the 10x json file"
   ]
  },
  {
   "cell_type": "code",
   "execution_count": 5,
   "metadata": {},
   "outputs": [
    {
     "data": {
      "text/plain": [
       "(128910.867120954, 8935.0)"
      ]
     },
     "execution_count": 5,
     "metadata": {},
     "output_type": "execute_result"
    }
   ],
   "source": [
    "# metrics_summary_json was generated from 10x's public 500_PBMC_3p_LT_Chromium_X dataset\n",
    "# build UMI_model first\n",
    "my_UMI_model = predictUMIs.UMI_model(metrics_summary_json)\n",
    "# check out the model attributes\n",
    "my_UMI_model.current_reads_per_cell, my_UMI_model.current_UMIs"
   ]
  },
  {
   "cell_type": "markdown",
   "metadata": {},
   "source": [
    "### Scrape reads and UMI information from the json file exclusively\n"
   ]
  },
  {
   "cell_type": "code",
   "execution_count": 6,
   "metadata": {},
   "outputs": [
    {
     "name": "stdout",
     "output_type": "stream",
     "text": [
      "reads:  [  5000.  10000.  12891.  20000.  25782.  30000.  38673.  50000.  51564.\n",
      "  64455.  77346.  90237. 103128. 116019. 128910.]\n",
      "UMIs:  [1596.0, 2827.0, 3380.0, 4551.0, 5253.0, 5705.0, 6388.0, 7049.0, 7128.0, 7638.0, 8021.0, 8287.0, 8552.0, 8731.0, 8935.0]\n"
     ]
    }
   ],
   "source": [
    "my_UMI_model_reads, my_UMI_model_UMIs = predictUMIs.get_reads_and_UMIs_from_json(metrics_summary_json)\n",
    "print('reads: ', my_UMI_model_reads) \n",
    "print('UMIs: ', my_UMI_model_UMIs)"
   ]
  },
  {
   "cell_type": "markdown",
   "metadata": {},
   "source": [
    "### fit UMI model with read and UMI data from json"
   ]
  },
  {
   "cell_type": "code",
   "execution_count": 7,
   "metadata": {},
   "outputs": [
    {
     "name": "stdout",
     "output_type": "stream",
     "text": [
      "Here is the information pertaining to the model:\n",
      "reads from JSON path:  [  5000.  10000.  12891.  20000.  25782.  30000.  38673.  50000.  51564.\n",
      "  64455.  77346.  90237. 103128. 116019. 128910.]\n",
      "UMIs from JSON path:  [1596.0, 2827.0, 3380.0, 4551.0, 5253.0, 5705.0, 6388.0, 7049.0, 7128.0, 7638.0, 8021.0, 8287.0, 8552.0, 8731.0, 8935.0]\n",
      "popt: [27720.1108838  10880.01386964] and pcov: [[145150.64382024  17595.72368607]\n",
      " [ 17595.72368607   2535.53923155]]\n",
      "halfsat_reads_per_cell: 27720  ymax_UMIs: 10880  halfsat_UMI_counts: 5440\n"
     ]
    },
    {
     "data": {
      "text/html": [
       "<div>\n",
       "<style scoped>\n",
       "    .dataframe tbody tr th:only-of-type {\n",
       "        vertical-align: middle;\n",
       "    }\n",
       "\n",
       "    .dataframe tbody tr th {\n",
       "        vertical-align: top;\n",
       "    }\n",
       "\n",
       "    .dataframe thead th {\n",
       "        text-align: right;\n",
       "    }\n",
       "</style>\n",
       "<table border=\"1\" class=\"dataframe\">\n",
       "  <thead>\n",
       "    <tr style=\"text-align: right;\">\n",
       "      <th></th>\n",
       "      <th>sample_id</th>\n",
       "      <th>reads_per_cell</th>\n",
       "      <th>current_UMIs</th>\n",
       "      <th>halfsat_reads_per_cell</th>\n",
       "      <th>halfsat_UMI_counts</th>\n",
       "      <th>max_UMIs</th>\n",
       "      <th>predicted UMIs for 40000 reads per cell</th>\n",
       "    </tr>\n",
       "  </thead>\n",
       "  <tbody>\n",
       "    <tr>\n",
       "      <th>0</th>\n",
       "      <td>500_PBMC_3p_LT_Chromium_X</td>\n",
       "      <td>128910</td>\n",
       "      <td>8935</td>\n",
       "      <td>27720</td>\n",
       "      <td>5440</td>\n",
       "      <td>10880</td>\n",
       "      <td>6426</td>\n",
       "    </tr>\n",
       "  </tbody>\n",
       "</table>\n",
       "</div>"
      ],
      "text/plain": [
       "                   sample_id  reads_per_cell  current_UMIs  \\\n",
       "0  500_PBMC_3p_LT_Chromium_X          128910          8935   \n",
       "\n",
       "   halfsat_reads_per_cell  halfsat_UMI_counts  max_UMIs  \\\n",
       "0                   27720                5440     10880   \n",
       "\n",
       "   predicted UMIs for 40000 reads per cell  \n",
       "0                                     6426  "
      ]
     },
     "execution_count": 7,
     "metadata": {},
     "output_type": "execute_result"
    }
   ],
   "source": [
    "my_UMI_model.fit_UMIs()\n",
    "my_UMI_model.make_UMI_table()"
   ]
  },
  {
   "cell_type": "code",
   "execution_count": 8,
   "metadata": {},
   "outputs": [
    {
     "data": {
      "image/png": "[encoded data removed]",
      "text/plain": [
       "<Figure size 480x330 with 1 Axes>"
      ]
     },
     "metadata": {
      "needs_background": "light"
     },
     "output_type": "display_data"
    }
   ],
   "source": [
    "my_UMI_model.plot_UMIs(readMax=200000)"
   ]
  },
  {
   "cell_type": "markdown",
   "metadata": {},
   "source": [
    "# 2) Sequencing Saturation and Median Genes per Cell Modeling\n",
    "Via scraping 10x Genomic's CellRanger count web_summary.html file"
   ]
  },
  {
   "cell_type": "markdown",
   "metadata": {},
   "source": [
    "### Build web_sum model"
   ]
  },
  {
   "cell_type": "code",
   "execution_count": 9,
   "metadata": {},
   "outputs": [],
   "source": [
    "Brain_3p = webSum_10x_halfSat.webSum_model(web_summary_list[0])"
   ]
  },
  {
   "cell_type": "markdown",
   "metadata": {},
   "source": [
    "### Scrape reads, saturations, and genes information from web summary test file exclusively\n"
   ]
  },
  {
   "cell_type": "code",
   "execution_count": 10,
   "metadata": {},
   "outputs": [
    {
     "data": {
      "text/plain": [
       "(array([ 5000,  5926, 10000, 11852, 17779, 20000, 23705, 29631, 30000,\n",
       "        35558, 41484, 47411, 50000, 53337, 59263]),\n",
       " array([0.09903163, 0.11535163, 0.1819234 , 0.20943394, 0.28696438,\n",
       "        0.31272946, 0.3518039 , 0.40648499, 0.40936431, 0.45288906,\n",
       "        0.49294754, 0.52759076, 0.5412673 , 0.55786919, 0.58456097]),\n",
       " array([1184. , 1326.5, 1846.5, 2035.5, 2502.5, 2637.5, 2831. , 3085. ,\n",
       "        3104.5, 3293.5, 3445. , 3569.5, 3617.5, 3672.5, 3764. ]))"
      ]
     },
     "execution_count": 10,
     "metadata": {},
     "output_type": "execute_result"
    }
   ],
   "source": [
    "reads_test, sat_test, genes_test = webSum_10x_halfSat.get_reads_sats_genes_from_web(web_summary_list[1])\n",
    "reads_test, sat_test, genes_test"
   ]
  },
  {
   "cell_type": "markdown",
   "metadata": {},
   "source": [
    "### Fit model and plot train and test data on it\n"
   ]
  },
  {
   "cell_type": "code",
   "execution_count": 11,
   "metadata": {},
   "outputs": [
    {
     "name": "stdout",
     "output_type": "stream",
     "text": [
      "Model being used for sequencing  saturation is:  mm\n",
      "\n",
      "Here is the information pertaining to the sequencing saturation model:\n",
      "reads from web_summary path:  [ 3986  5000  7972 10000 11959 15945 19932 20000 23918 27905 30000 31891\n",
      " 35878 39864]\n",
      "saturations from web_summary path:  [0.08793436 0.10819453 0.16285586 0.19670443 0.2271536  0.28281733\n",
      " 0.33144071 0.33232518 0.37421935 0.4120129  0.43013465 0.4455715\n",
      " 0.4755934  0.50262026]\n",
      "popt_saturation: [40017.93677488] and pcov_saturation: [[16821.10875345]]\n",
      "halfsat_reads_per_cell: 40018  ymax_sat: 1  halfsat_saturation: 0.5\n",
      "\n",
      "Here is the information pertaining to the gene saturation model:\n",
      "reads from web_summary path:  [ 3986  5000  7972 10000 11959 15945 19932 20000 23918 27905 30000 31891\n",
      " 35878 39864]\n",
      "genes from web_summary path:  [1025.  1206.  1638.5 1872.  2062.  2384.5 2635.  2633.  2832.5 3002.\n",
      " 3075.5 3137.  3256.5 3358. ]\n",
      "popt_genes: [14090.8358764  4518.7295552] and pcov_genes: [[39360.39138894  4777.26777953]\n",
      " [ 4777.26777953   633.45031858]]\n",
      "halfsat_reads_per_cell: 14091  ymax_genes: 4519  halfsat_genes per cell: 2260\n"
     ]
    },
    {
     "data": {
      "image/png": "[encoded data removed]",
      "text/plain": [
       "<Figure size 810x330 with 2 Axes>"
      ]
     },
     "metadata": {
      "needs_background": "light"
     },
     "output_type": "display_data"
    }
   ],
   "source": [
    "Brain_3p.fit_model(seqSatModel='mm')\n",
    "Brain_3p.plot(readMax=250000, reads_test=reads_test, saturations_test=sat_test, genes_test=genes_test)"
   ]
  },
  {
   "cell_type": "markdown",
   "metadata": {},
   "source": [
    "### Use models for prediction and test the goodness of fit\n"
   ]
  },
  {
   "cell_type": "code",
   "execution_count": 12,
   "metadata": {},
   "outputs": [
    {
     "name": "stdout",
     "output_type": "stream",
     "text": [
      "RSS: 50334.5  ymean: 2794.3333333333335  TSS: 10176173.833333332  Rsquared: 0.9950536910213618\n"
     ]
    },
    {
     "data": {
      "text/plain": [
       "0.9950536910213618"
      ]
     },
     "execution_count": 12,
     "metadata": {},
     "output_type": "execute_result"
    }
   ],
   "source": [
    "Brain_3p.predict_genes(genes_test)\n",
    "Brain_3p.score_genes(reads_test, genes_test)"
   ]
  },
  {
   "cell_type": "code",
   "execution_count": 13,
   "metadata": {},
   "outputs": [
    {
     "name": "stdout",
     "output_type": "stream",
     "text": [
      "RSS: 0.004311862624179803  ymean: 0.3686808312730259  TSS: 0.3702697132169756  Rsquared: 0.9883548060501155\n"
     ]
    },
    {
     "data": {
      "text/plain": [
       "0.9883548060501155"
      ]
     },
     "execution_count": 13,
     "metadata": {},
     "output_type": "execute_result"
    }
   ],
   "source": [
    "Brain_3p.predict_seq_saturation(reads_test)\n",
    "Brain_3p.score_seq_saturation(reads_test, sat_test)"
   ]
  },
  {
   "cell_type": "markdown",
   "metadata": {},
   "source": [
    "# 3) Metric Tables"
   ]
  },
  {
   "cell_type": "code",
   "execution_count": 14,
   "metadata": {},
   "outputs": [
    {
     "data": {
      "text/html": [
       "<div>\n",
       "<style scoped>\n",
       "    .dataframe tbody tr th:only-of-type {\n",
       "        vertical-align: middle;\n",
       "    }\n",
       "\n",
       "    .dataframe tbody tr th {\n",
       "        vertical-align: top;\n",
       "    }\n",
       "\n",
       "    .dataframe thead th {\n",
       "        text-align: right;\n",
       "    }\n",
       "</style>\n",
       "<table border=\"1\" class=\"dataframe\">\n",
       "  <thead>\n",
       "    <tr style=\"text-align: right;\">\n",
       "      <th></th>\n",
       "      <th>Sample ID</th>\n",
       "      <th>Sample Description</th>\n",
       "      <th>Chemistry</th>\n",
       "      <th>Include introns</th>\n",
       "      <th>Reference Path</th>\n",
       "      <th>Transcriptome</th>\n",
       "      <th>Pipeline Version</th>\n",
       "      <th>Number of Reads</th>\n",
       "      <th>Number of Short Reads Skipped</th>\n",
       "      <th>Valid Barcodes</th>\n",
       "      <th>...</th>\n",
       "      <th>Estimated Number of Cells</th>\n",
       "      <th>Fraction Reads in Cells</th>\n",
       "      <th>Mean Reads per Cell</th>\n",
       "      <th>Median Genes per Cell</th>\n",
       "      <th>Total Genes Detected</th>\n",
       "      <th>Median UMI Counts per Cell</th>\n",
       "      <th>tso_frac</th>\n",
       "      <th>i1_bases_with_q30_frac</th>\n",
       "      <th>i2_bases_with_q30_frac</th>\n",
       "      <th>low_support_umi_reads_frac</th>\n",
       "    </tr>\n",
       "  </thead>\n",
       "  <tbody>\n",
       "    <tr>\n",
       "      <th>0</th>\n",
       "      <td>Brain_3p</td>\n",
       "      <td>Sorted nuclei from Human brain, 3’ v3.1</td>\n",
       "      <td>Single Cell 3' v3</td>\n",
       "      <td>True</td>\n",
       "      <td>/mnt/scratch2/cellranger-6.0.0/references/refd...</td>\n",
       "      <td>GRCh38-2020-A</td>\n",
       "      <td>cellranger-6.0.0</td>\n",
       "      <td>263,425,246</td>\n",
       "      <td>0</td>\n",
       "      <td>96.7%</td>\n",
       "      <td>...</td>\n",
       "      <td>6,608</td>\n",
       "      <td>91.9%</td>\n",
       "      <td>39,865</td>\n",
       "      <td>3,358</td>\n",
       "      <td>31,287</td>\n",
       "      <td>8,066</td>\n",
       "      <td>0.144249</td>\n",
       "      <td>0.959889</td>\n",
       "      <td>0.941109</td>\n",
       "      <td>0.004700</td>\n",
       "    </tr>\n",
       "    <tr>\n",
       "      <th>1</th>\n",
       "      <td>Brain_3p_LT</td>\n",
       "      <td>Sorted nuclei from Human brain, 3’ LT v3.1</td>\n",
       "      <td>Single Cell 3' v3 LT</td>\n",
       "      <td>True</td>\n",
       "      <td>/mnt/scratch2/cellranger-6.0.0/references/refd...</td>\n",
       "      <td>GRCh38-2020-A</td>\n",
       "      <td>cellranger-6.0.0</td>\n",
       "      <td>37,099,167</td>\n",
       "      <td>0</td>\n",
       "      <td>96.1%</td>\n",
       "      <td>...</td>\n",
       "      <td>626</td>\n",
       "      <td>88.4%</td>\n",
       "      <td>59,264</td>\n",
       "      <td>3,764</td>\n",
       "      <td>26,541</td>\n",
       "      <td>9,250</td>\n",
       "      <td>0.188941</td>\n",
       "      <td>0.944693</td>\n",
       "      <td>0.928160</td>\n",
       "      <td>0.005282</td>\n",
       "    </tr>\n",
       "    <tr>\n",
       "      <th>2</th>\n",
       "      <td>Breast_Cancer_3p_LT</td>\n",
       "      <td>Sorted cells from Human Invasive Ductal Carcin...</td>\n",
       "      <td>Single Cell 3' v3 LT</td>\n",
       "      <td>False</td>\n",
       "      <td>/mnt/scratch2/cellranger-6.0.0/references/refd...</td>\n",
       "      <td>GRCh38-2020-A</td>\n",
       "      <td>cellranger-6.0.0</td>\n",
       "      <td>42,854,607</td>\n",
       "      <td>0</td>\n",
       "      <td>97.5%</td>\n",
       "      <td>...</td>\n",
       "      <td>687</td>\n",
       "      <td>91.8%</td>\n",
       "      <td>62,379</td>\n",
       "      <td>3,023</td>\n",
       "      <td>21,667</td>\n",
       "      <td>14,292</td>\n",
       "      <td>0.089274</td>\n",
       "      <td>0.953108</td>\n",
       "      <td>0.936143</td>\n",
       "      <td>0.003269</td>\n",
       "    </tr>\n",
       "  </tbody>\n",
       "</table>\n",
       "<p>3 rows × 32 columns</p>\n",
       "</div>"
      ],
      "text/plain": [
       "             Sample ID                                 Sample Description  \\\n",
       "0             Brain_3p            Sorted nuclei from Human brain, 3’ v3.1   \n",
       "1          Brain_3p_LT         Sorted nuclei from Human brain, 3’ LT v3.1   \n",
       "2  Breast_Cancer_3p_LT  Sorted cells from Human Invasive Ductal Carcin...   \n",
       "\n",
       "              Chemistry Include introns  \\\n",
       "0     Single Cell 3' v3            True   \n",
       "1  Single Cell 3' v3 LT            True   \n",
       "2  Single Cell 3' v3 LT           False   \n",
       "\n",
       "                                      Reference Path  Transcriptome  \\\n",
       "0  /mnt/scratch2/cellranger-6.0.0/references/refd...  GRCh38-2020-A   \n",
       "1  /mnt/scratch2/cellranger-6.0.0/references/refd...  GRCh38-2020-A   \n",
       "2  /mnt/scratch2/cellranger-6.0.0/references/refd...  GRCh38-2020-A   \n",
       "\n",
       "   Pipeline Version Number of Reads Number of Short Reads Skipped  \\\n",
       "0  cellranger-6.0.0     263,425,246                             0   \n",
       "1  cellranger-6.0.0      37,099,167                             0   \n",
       "2  cellranger-6.0.0      42,854,607                             0   \n",
       "\n",
       "  Valid Barcodes  ... Estimated Number of Cells Fraction Reads in Cells  \\\n",
       "0          96.7%  ...                     6,608                   91.9%   \n",
       "1          96.1%  ...                       626                   88.4%   \n",
       "2          97.5%  ...                       687                   91.8%   \n",
       "\n",
       "  Mean Reads per Cell Median Genes per Cell Total Genes Detected  \\\n",
       "0              39,865                 3,358               31,287   \n",
       "1              59,264                 3,764               26,541   \n",
       "2              62,379                 3,023               21,667   \n",
       "\n",
       "  Median UMI Counts per Cell  tso_frac i1_bases_with_q30_frac  \\\n",
       "0                      8,066  0.144249               0.959889   \n",
       "1                      9,250  0.188941               0.944693   \n",
       "2                     14,292  0.089274               0.953108   \n",
       "\n",
       "  i2_bases_with_q30_frac low_support_umi_reads_frac  \n",
       "0               0.941109                   0.004700  \n",
       "1               0.928160                   0.005282  \n",
       "2               0.936143                   0.003269  \n",
       "\n",
       "[3 rows x 32 columns]"
      ]
     },
     "execution_count": 14,
     "metadata": {},
     "output_type": "execute_result"
    }
   ],
   "source": [
    "# Full Table\n",
    "metrics.tableGenerator(web_summary_list, 'GEX', 'full')"
   ]
  },
  {
   "cell_type": "code",
   "execution_count": 15,
   "metadata": {},
   "outputs": [],
   "source": [
    "# Full Table ARC\n",
    "atacTable, gexTable = metrics.tableGenerator([web_summary_arc], webSummaryType='ARC', tableType='full')"
   ]
  },
  {
   "cell_type": "code",
   "execution_count": 16,
   "metadata": {},
   "outputs": [
    {
     "data": {
      "text/html": [
       "<div>\n",
       "<style scoped>\n",
       "    .dataframe tbody tr th:only-of-type {\n",
       "        vertical-align: middle;\n",
       "    }\n",
       "\n",
       "    .dataframe tbody tr th {\n",
       "        vertical-align: top;\n",
       "    }\n",
       "\n",
       "    .dataframe thead th {\n",
       "        text-align: right;\n",
       "    }\n",
       "</style>\n",
       "<table border=\"1\" class=\"dataframe\">\n",
       "  <thead>\n",
       "    <tr style=\"text-align: right;\">\n",
       "      <th></th>\n",
       "      <th>Sample ID</th>\n",
       "      <th>Sample description</th>\n",
       "      <th>Pipeline version</th>\n",
       "      <th>Reference path</th>\n",
       "      <th>Chemistry</th>\n",
       "      <th>Organism</th>\n",
       "      <th>Include introns</th>\n",
       "      <th>Feature linkages detected</th>\n",
       "      <th>Linked genes</th>\n",
       "      <th>Linked peaks</th>\n",
       "      <th>...</th>\n",
       "      <th>Fraction of transposition events in peaks in cells</th>\n",
       "      <th>Median high-quality fragments per cell</th>\n",
       "      <th>Confidently mapped read pairs</th>\n",
       "      <th>Unmapped read pairs</th>\n",
       "      <th>Non-nuclear read pairs</th>\n",
       "      <th>Number of peaks</th>\n",
       "      <th>Fraction of genome in peaks</th>\n",
       "      <th>TSS enrichment score</th>\n",
       "      <th>Fraction of high-quality fragments overlapping TSS</th>\n",
       "      <th>Fraction of high-quality fragments overlapping peaks</th>\n",
       "    </tr>\n",
       "  </thead>\n",
       "  <tbody>\n",
       "    <tr>\n",
       "      <th>0</th>\n",
       "      <td>human_brain_3k</td>\n",
       "      <td>Frozen human healthy brain tissue (3k)</td>\n",
       "      <td>cellranger-arc-2.0.0</td>\n",
       "      <td>/mnt/scratch2/cellranger-arc-2.0.0/refdata-cel...</td>\n",
       "      <td>Single Cell Multiome ATAC + Gene Expression v1</td>\n",
       "      <td>Homo_sapiens</td>\n",
       "      <td>True</td>\n",
       "      <td>847,025</td>\n",
       "      <td>13,629</td>\n",
       "      <td>88,843</td>\n",
       "      <td>...</td>\n",
       "      <td>35.3%</td>\n",
       "      <td>22,881</td>\n",
       "      <td>91.2%</td>\n",
       "      <td>1.0%</td>\n",
       "      <td>1.3%</td>\n",
       "      <td>134,030</td>\n",
       "      <td>3.7%</td>\n",
       "      <td>6.53</td>\n",
       "      <td>28.6%</td>\n",
       "      <td>38.8%</td>\n",
       "    </tr>\n",
       "  </tbody>\n",
       "</table>\n",
       "<p>1 rows × 30 columns</p>\n",
       "</div>"
      ],
      "text/plain": [
       "        Sample ID                      Sample description  \\\n",
       "0  human_brain_3k  Frozen human healthy brain tissue (3k)   \n",
       "\n",
       "       Pipeline version                                     Reference path  \\\n",
       "0  cellranger-arc-2.0.0  /mnt/scratch2/cellranger-arc-2.0.0/refdata-cel...   \n",
       "\n",
       "                                        Chemistry      Organism  \\\n",
       "0  Single Cell Multiome ATAC + Gene Expression v1  Homo_sapiens   \n",
       "\n",
       "  Include introns Feature linkages detected Linked genes Linked peaks  ...  \\\n",
       "0            True                   847,025       13,629       88,843  ...   \n",
       "\n",
       "  Fraction of transposition events in peaks in cells  \\\n",
       "0                                              35.3%   \n",
       "\n",
       "  Median high-quality fragments per cell Confidently mapped read pairs  \\\n",
       "0                                 22,881                         91.2%   \n",
       "\n",
       "  Unmapped read pairs Non-nuclear read pairs Number of peaks  \\\n",
       "0                1.0%                   1.3%         134,030   \n",
       "\n",
       "  Fraction of genome in peaks TSS enrichment score  \\\n",
       "0                        3.7%                 6.53   \n",
       "\n",
       "  Fraction of high-quality fragments overlapping TSS  \\\n",
       "0                                              28.6%   \n",
       "\n",
       "  Fraction of high-quality fragments overlapping peaks  \n",
       "0                                              38.8%    \n",
       "\n",
       "[1 rows x 30 columns]"
      ]
     },
     "execution_count": 16,
     "metadata": {},
     "output_type": "execute_result"
    }
   ],
   "source": [
    "atacTable"
   ]
  },
  {
   "cell_type": "code",
   "execution_count": 17,
   "metadata": {},
   "outputs": [
    {
     "data": {
      "text/html": [
       "<div>\n",
       "<style scoped>\n",
       "    .dataframe tbody tr th:only-of-type {\n",
       "        vertical-align: middle;\n",
       "    }\n",
       "\n",
       "    .dataframe tbody tr th {\n",
       "        vertical-align: top;\n",
       "    }\n",
       "\n",
       "    .dataframe thead th {\n",
       "        text-align: right;\n",
       "    }\n",
       "</style>\n",
       "<table border=\"1\" class=\"dataframe\">\n",
       "  <thead>\n",
       "    <tr style=\"text-align: right;\">\n",
       "      <th></th>\n",
       "      <th>Sample ID</th>\n",
       "      <th>Sample description</th>\n",
       "      <th>Pipeline version</th>\n",
       "      <th>Reference path</th>\n",
       "      <th>Chemistry</th>\n",
       "      <th>Organism</th>\n",
       "      <th>Include introns</th>\n",
       "      <th>Feature linkages detected</th>\n",
       "      <th>Linked genes</th>\n",
       "      <th>Linked peaks</th>\n",
       "      <th>...</th>\n",
       "      <th>Median UMI counts per cell</th>\n",
       "      <th>Median genes per cell</th>\n",
       "      <th>Total genes detected</th>\n",
       "      <th>Reads mapped to genome</th>\n",
       "      <th>Reads mapped confidently to genome</th>\n",
       "      <th>Reads mapped confidently to intergenic regions</th>\n",
       "      <th>Reads mapped confidently to intronic regions</th>\n",
       "      <th>Reads mapped confidently to exonic regions</th>\n",
       "      <th>Reads mapped confidently to transcriptome</th>\n",
       "      <th>Reads mapped antisense to gene</th>\n",
       "    </tr>\n",
       "  </thead>\n",
       "  <tbody>\n",
       "    <tr>\n",
       "      <th>0</th>\n",
       "      <td>human_brain_3k</td>\n",
       "      <td>Frozen human healthy brain tissue (3k)</td>\n",
       "      <td>cellranger-arc-2.0.0</td>\n",
       "      <td>/mnt/scratch2/cellranger-arc-2.0.0/refdata-cel...</td>\n",
       "      <td>Single Cell Multiome ATAC + Gene Expression v1</td>\n",
       "      <td>Homo_sapiens</td>\n",
       "      <td>True</td>\n",
       "      <td>847,025</td>\n",
       "      <td>13,629</td>\n",
       "      <td>88,843</td>\n",
       "      <td>...</td>\n",
       "      <td>6,966</td>\n",
       "      <td>2,600</td>\n",
       "      <td>31,201</td>\n",
       "      <td>96.9%</td>\n",
       "      <td>92.2%</td>\n",
       "      <td>6.2%</td>\n",
       "      <td>65.4%</td>\n",
       "      <td>20.6%</td>\n",
       "      <td>73.9%</td>\n",
       "      <td>11.1%</td>\n",
       "    </tr>\n",
       "  </tbody>\n",
       "</table>\n",
       "<p>1 rows × 33 columns</p>\n",
       "</div>"
      ],
      "text/plain": [
       "        Sample ID                      Sample description  \\\n",
       "0  human_brain_3k  Frozen human healthy brain tissue (3k)   \n",
       "\n",
       "       Pipeline version                                     Reference path  \\\n",
       "0  cellranger-arc-2.0.0  /mnt/scratch2/cellranger-arc-2.0.0/refdata-cel...   \n",
       "\n",
       "                                        Chemistry      Organism  \\\n",
       "0  Single Cell Multiome ATAC + Gene Expression v1  Homo_sapiens   \n",
       "\n",
       "  Include introns Feature linkages detected Linked genes Linked peaks  ...  \\\n",
       "0            True                   847,025       13,629       88,843  ...   \n",
       "\n",
       "  Median UMI counts per cell Median genes per cell Total genes detected  \\\n",
       "0                      6,966                 2,600               31,201   \n",
       "\n",
       "  Reads mapped to genome Reads mapped confidently to genome  \\\n",
       "0                  96.9%                              92.2%   \n",
       "\n",
       "  Reads mapped confidently to intergenic regions  \\\n",
       "0                                           6.2%   \n",
       "\n",
       "  Reads mapped confidently to intronic regions  \\\n",
       "0                                        65.4%   \n",
       "\n",
       "  Reads mapped confidently to exonic regions  \\\n",
       "0                                      20.6%   \n",
       "\n",
       "  Reads mapped confidently to transcriptome Reads mapped antisense to gene  \n",
       "0                                     73.9%                          11.1%  \n",
       "\n",
       "[1 rows x 33 columns]"
      ]
     },
     "execution_count": 17,
     "metadata": {},
     "output_type": "execute_result"
    }
   ],
   "source": [
    "gexTable"
   ]
  },
  {
   "cell_type": "code",
   "execution_count": 18,
   "metadata": {},
   "outputs": [
    {
     "data": {
      "text/html": [
       "<div>\n",
       "<style scoped>\n",
       "    .dataframe tbody tr th:only-of-type {\n",
       "        vertical-align: middle;\n",
       "    }\n",
       "\n",
       "    .dataframe tbody tr th {\n",
       "        vertical-align: top;\n",
       "    }\n",
       "\n",
       "    .dataframe thead th {\n",
       "        text-align: right;\n",
       "    }\n",
       "</style>\n",
       "<table border=\"1\" class=\"dataframe\">\n",
       "  <thead>\n",
       "    <tr style=\"text-align: right;\">\n",
       "      <th></th>\n",
       "      <th>Sample ID</th>\n",
       "      <th>Number of Reads</th>\n",
       "      <th>Sequencing Saturation</th>\n",
       "      <th>Reads Mapped to Genome</th>\n",
       "      <th>Reads Mapped Confidently to Genome</th>\n",
       "      <th>Estimated Number of Cells</th>\n",
       "      <th>Fraction Reads in Cells</th>\n",
       "      <th>Mean Reads per Cell</th>\n",
       "      <th>Median Genes per Cell</th>\n",
       "      <th>Median UMI Counts per Cell</th>\n",
       "      <th>tso_frac</th>\n",
       "    </tr>\n",
       "  </thead>\n",
       "  <tbody>\n",
       "    <tr>\n",
       "      <th>0</th>\n",
       "      <td>Brain_3p</td>\n",
       "      <td>263,425,246</td>\n",
       "      <td>50.3%</td>\n",
       "      <td>96.7%</td>\n",
       "      <td>92.7%</td>\n",
       "      <td>6,608</td>\n",
       "      <td>91.9%</td>\n",
       "      <td>39,865</td>\n",
       "      <td>3,358</td>\n",
       "      <td>8,066</td>\n",
       "      <td>0.144249</td>\n",
       "    </tr>\n",
       "    <tr>\n",
       "      <th>1</th>\n",
       "      <td>Brain_3p_LT</td>\n",
       "      <td>37,099,167</td>\n",
       "      <td>58.5%</td>\n",
       "      <td>95.9%</td>\n",
       "      <td>91.5%</td>\n",
       "      <td>626</td>\n",
       "      <td>88.4%</td>\n",
       "      <td>59,264</td>\n",
       "      <td>3,764</td>\n",
       "      <td>9,250</td>\n",
       "      <td>0.188941</td>\n",
       "    </tr>\n",
       "    <tr>\n",
       "      <th>2</th>\n",
       "      <td>Breast_Cancer_3p_LT</td>\n",
       "      <td>42,854,607</td>\n",
       "      <td>32.8%</td>\n",
       "      <td>96.6%</td>\n",
       "      <td>93.2%</td>\n",
       "      <td>687</td>\n",
       "      <td>91.8%</td>\n",
       "      <td>62,379</td>\n",
       "      <td>3,023</td>\n",
       "      <td>14,292</td>\n",
       "      <td>0.089274</td>\n",
       "    </tr>\n",
       "  </tbody>\n",
       "</table>\n",
       "</div>"
      ],
      "text/plain": [
       "             Sample ID Number of Reads Sequencing Saturation  \\\n",
       "0             Brain_3p     263,425,246                 50.3%   \n",
       "1          Brain_3p_LT      37,099,167                 58.5%   \n",
       "2  Breast_Cancer_3p_LT      42,854,607                 32.8%   \n",
       "\n",
       "  Reads Mapped to Genome Reads Mapped Confidently to Genome  \\\n",
       "0                  96.7%                              92.7%   \n",
       "1                  95.9%                              91.5%   \n",
       "2                  96.6%                              93.2%   \n",
       "\n",
       "  Estimated Number of Cells Fraction Reads in Cells Mean Reads per Cell  \\\n",
       "0                     6,608                   91.9%              39,865   \n",
       "1                       626                   88.4%              59,264   \n",
       "2                       687                   91.8%              62,379   \n",
       "\n",
       "  Median Genes per Cell Median UMI Counts per Cell  tso_frac  \n",
       "0                 3,358                      8,066  0.144249  \n",
       "1                 3,764                      9,250  0.188941  \n",
       "2                 3,023                     14,292  0.089274  "
      ]
     },
     "execution_count": 18,
     "metadata": {},
     "output_type": "execute_result"
    }
   ],
   "source": [
    "# Delivery doc (abbreviated table)\n",
    "metrics.tableGenerator(web_summary_list, 'GEX', 'delivery doc')"
   ]
  },
  {
   "cell_type": "code",
   "execution_count": 19,
   "metadata": {},
   "outputs": [
    {
     "data": {
      "text/html": [
       "<div>\n",
       "<style scoped>\n",
       "    .dataframe tbody tr th:only-of-type {\n",
       "        vertical-align: middle;\n",
       "    }\n",
       "\n",
       "    .dataframe tbody tr th {\n",
       "        vertical-align: top;\n",
       "    }\n",
       "\n",
       "    .dataframe thead th {\n",
       "        text-align: right;\n",
       "    }\n",
       "</style>\n",
       "<table border=\"1\" class=\"dataframe\">\n",
       "  <thead>\n",
       "    <tr style=\"text-align: right;\">\n",
       "      <th></th>\n",
       "      <th>sample id</th>\n",
       "      <th>number of reads</th>\n",
       "      <th>estimated number of cells</th>\n",
       "      <th>mean reads per cell</th>\n",
       "      <th>reads needed for 80000 reads per cell</th>\n",
       "      <th>total reads needed for 80000 reads per cell</th>\n",
       "      <th>percent of lane</th>\n",
       "    </tr>\n",
       "  </thead>\n",
       "  <tbody>\n",
       "    <tr>\n",
       "      <th>0</th>\n",
       "      <td>Brain_3p</td>\n",
       "      <td>263425246</td>\n",
       "      <td>6608</td>\n",
       "      <td>39865</td>\n",
       "      <td>40135</td>\n",
       "      <td>265212080</td>\n",
       "      <td>0.913584</td>\n",
       "    </tr>\n",
       "    <tr>\n",
       "      <th>1</th>\n",
       "      <td>Brain_3p_LT</td>\n",
       "      <td>37099167</td>\n",
       "      <td>626</td>\n",
       "      <td>59264</td>\n",
       "      <td>20736</td>\n",
       "      <td>12980736</td>\n",
       "      <td>0.044715</td>\n",
       "    </tr>\n",
       "    <tr>\n",
       "      <th>2</th>\n",
       "      <td>Breast_Cancer_3p_LT</td>\n",
       "      <td>42854607</td>\n",
       "      <td>687</td>\n",
       "      <td>62379</td>\n",
       "      <td>17621</td>\n",
       "      <td>12105627</td>\n",
       "      <td>0.041701</td>\n",
       "    </tr>\n",
       "  </tbody>\n",
       "</table>\n",
       "</div>"
      ],
      "text/plain": [
       "             sample id  number of reads  estimated number of cells  \\\n",
       "0             Brain_3p        263425246                       6608   \n",
       "1          Brain_3p_LT         37099167                        626   \n",
       "2  Breast_Cancer_3p_LT         42854607                        687   \n",
       "\n",
       "   mean reads per cell  reads needed for 80000 reads per cell  \\\n",
       "0                39865                                  40135   \n",
       "1                59264                                  20736   \n",
       "2                62379                                  17621   \n",
       "\n",
       "   total reads needed for 80000 reads per cell  percent of lane  \n",
       "0                                    265212080         0.913584  \n",
       "1                                     12980736         0.044715  \n",
       "2                                     12105627         0.041701  "
      ]
     },
     "execution_count": 19,
     "metadata": {},
     "output_type": "execute_result"
    }
   ],
   "source": [
    "# repooling table\n",
    "metrics.tableGenerator(web_summary_list, 'GEX', 'repooling', readsDesired = 80000)"
   ]
  },
  {
   "cell_type": "code",
   "execution_count": null,
   "metadata": {},
   "outputs": [],
   "source": []
  }
 ],
 "metadata": {
  "kernelspec": {
   "display_name": "test",
   "language": "python",
   "name": "test"
  },
  "language_info": {
   "codemirror_mode": {
    "name": "ipython",
    "version": 3
   },
   "file_extension": ".py",
   "mimetype": "text/x-python",
   "name": "python",
   "nbconvert_exporter": "python",
   "pygments_lexer": "ipython3",
   "version": "3.7.6"
  }
 },
 "nbformat": 4,
 "nbformat_minor": 4
}
